{
  "cells": [
    {
      "source": [
        "\n",
        "# Random Shapes\n",
        "\n",
        "implementing scipy's `random shapes` function to assist in the generation of videos.\n"
      ],
      "cell_type": "markdown",
      "metadata": {}
    },
    {
      "source": [
        "import os\n",
        "import matplotlib.pyplot as plt\n",
        "import numpy as np\n",
        "import cv2\n",
        "from skimage.draw import random_shapes, rectangle\n",
        "from skimage.util import img_as_ubyte\n",
        "import pandas as pd\n",
        "import datetime, dateutil"
      ],
      "cell_type": "code",
      "metadata": {},
      "execution_count": 5,
      "outputs": []
    },
    {
      "cell_type": "code",
      "execution_count": 6,
      "metadata": {
        "collapsed": false
      },
      "outputs": [],
      "source": [
        "%matplotlib inline"
      ]
    },
    {
      "source": [
        "# duration shape (or black) frame remains\n",
        "frame_dur = 1 \n",
        "\n",
        "# which shapes to 'choose' from\n",
        "shape_arr = ['triangle', 'circle']\n",
        "\n",
        "frame_size = (1080,1920)\n",
        "\n",
        "# which shape is the conditioned stimulus\n",
        "\n",
        "other_stim = 'circle'\n",
        "\n",
        "cond_stim = 'triangle'\n",
        "\n",
        "# randomly selects shapes (must be even!)\n",
        "number_of_shapes = 10\n",
        "\n",
        "shapes = np.random.choice(shape_arr, number_of_shapes, p=[0.5,0.5])\n",
        "\n",
        "# This creates a blank image with the correct dims\n",
        "h, w = frame_size"
      ],
      "cell_type": "code",
      "metadata": {},
      "execution_count": 7,
      "outputs": []
    },
    {
      "source": [
        "# Generate time key"
      ],
      "cell_type": "markdown",
      "metadata": {}
    },
    {
      "cell_type": "code",
      "execution_count": 8,
      "metadata": {},
      "outputs": [],
      "source": [
        "time_key = pd.DataFrame(shapes, columns=['stimulus_shape'])\n",
        "time_key['cameras'] = np.tile((1,2),int(number_of_shapes/2))\n",
        "time_key['duration'] = np.nan"
      ]
    },
    {
      "cell_type": "code",
      "execution_count": 9,
      "metadata": {},
      "outputs": [],
      "source": [
        "time_key.loc[time_key['stimulus_shape'] == cond_stim, 'duration'] = 21\n",
        "time_key.loc[time_key['stimulus_shape'] == other_stim, 'duration'] = 5\n",
        "\n",
        "# shift since first frame begins with fixation pt\n",
        "time_key.at[0,'duration'] = time_key.at[0,'duration'] + 16\n",
        "\n",
        "time_key['time'] = time_key['duration'].cumsum()\n",
        "time_key['times'] = pd.to_timedelta(time_key['time'], unit='m',)\n",
        "\n",
        "# Save times\n",
        "today = datetime.date.today()\n",
        "today = today.strftime(\"%d-%m-%Y\")\n",
        "time_key_df_name = '{}_{}'.format(today, 'time_key.csv')\n",
        "time_key.to_csv(time_key_df_name)"
      ]
    },
    {
      "cell_type": "code",
      "execution_count": 10,
      "metadata": {},
      "outputs": [
        {
          "output_type": "execute_result",
          "data": {
            "text/plain": [
              "  stimulus_shape  cameras  duration   time           times\n",
              "0         circle        1      21.0   21.0 0 days 00:21:00\n",
              "1       triangle        2      21.0   42.0 0 days 00:42:00\n",
              "2         circle        1       5.0   47.0 0 days 00:47:00\n",
              "3       triangle        2      21.0   68.0 0 days 01:08:00\n",
              "4       triangle        1      21.0   89.0 0 days 01:29:00\n",
              "5       triangle        2      21.0  110.0 0 days 01:50:00\n",
              "6       triangle        1      21.0  131.0 0 days 02:11:00\n",
              "7         circle        2       5.0  136.0 0 days 02:16:00\n",
              "8         circle        1       5.0  141.0 0 days 02:21:00\n",
              "9       triangle        2      21.0  162.0 0 days 02:42:00"
            ],
            "text/html": "<div>\n<style scoped>\n    .dataframe tbody tr th:only-of-type {\n        vertical-align: middle;\n    }\n\n    .dataframe tbody tr th {\n        vertical-align: top;\n    }\n\n    .dataframe thead th {\n        text-align: right;\n    }\n</style>\n<table border=\"1\" class=\"dataframe\">\n  <thead>\n    <tr style=\"text-align: right;\">\n      <th></th>\n      <th>stimulus_shape</th>\n      <th>cameras</th>\n      <th>duration</th>\n      <th>time</th>\n      <th>times</th>\n    </tr>\n  </thead>\n  <tbody>\n    <tr>\n      <th>0</th>\n      <td>circle</td>\n      <td>1</td>\n      <td>21.0</td>\n      <td>21.0</td>\n      <td>0 days 00:21:00</td>\n    </tr>\n    <tr>\n      <th>1</th>\n      <td>triangle</td>\n      <td>2</td>\n      <td>21.0</td>\n      <td>42.0</td>\n      <td>0 days 00:42:00</td>\n    </tr>\n    <tr>\n      <th>2</th>\n      <td>circle</td>\n      <td>1</td>\n      <td>5.0</td>\n      <td>47.0</td>\n      <td>0 days 00:47:00</td>\n    </tr>\n    <tr>\n      <th>3</th>\n      <td>triangle</td>\n      <td>2</td>\n      <td>21.0</td>\n      <td>68.0</td>\n      <td>0 days 01:08:00</td>\n    </tr>\n    <tr>\n      <th>4</th>\n      <td>triangle</td>\n      <td>1</td>\n      <td>21.0</td>\n      <td>89.0</td>\n      <td>0 days 01:29:00</td>\n    </tr>\n    <tr>\n      <th>5</th>\n      <td>triangle</td>\n      <td>2</td>\n      <td>21.0</td>\n      <td>110.0</td>\n      <td>0 days 01:50:00</td>\n    </tr>\n    <tr>\n      <th>6</th>\n      <td>triangle</td>\n      <td>1</td>\n      <td>21.0</td>\n      <td>131.0</td>\n      <td>0 days 02:11:00</td>\n    </tr>\n    <tr>\n      <th>7</th>\n      <td>circle</td>\n      <td>2</td>\n      <td>5.0</td>\n      <td>136.0</td>\n      <td>0 days 02:16:00</td>\n    </tr>\n    <tr>\n      <th>8</th>\n      <td>circle</td>\n      <td>1</td>\n      <td>5.0</td>\n      <td>141.0</td>\n      <td>0 days 02:21:00</td>\n    </tr>\n    <tr>\n      <th>9</th>\n      <td>triangle</td>\n      <td>2</td>\n      <td>21.0</td>\n      <td>162.0</td>\n      <td>0 days 02:42:00</td>\n    </tr>\n  </tbody>\n</table>\n</div>"
          },
          "metadata": {},
          "execution_count": 10
        }
      ],
      "source": [
        "time_key"
      ]
    },
    {
      "source": [
        "## Create fixation stimulus"
      ],
      "cell_type": "markdown",
      "metadata": {}
    },
    {
      "cell_type": "code",
      "execution_count": 11,
      "metadata": {},
      "outputs": [],
      "source": [
        "fix_img = np.full((h, w), 255, dtype = np.uint8)\n",
        "start = (540,960)\n",
        "extent = (590,1010)\n",
        "rr, cc = rectangle(start, end=extent, shape=fix_img.shape)\n",
        "fix_img[rr, cc] = 0"
      ]
    },
    {
      "source": [
        "## Create image arrays"
      ],
      "cell_type": "markdown",
      "metadata": {}
    },
    {
      "cell_type": "code",
      "execution_count": 12,
      "metadata": {},
      "outputs": [],
      "source": [
        "cam1_images = []\n",
        "cam2_images = []\n",
        "cam3_images = []\n",
        "\n",
        "h, w = frame_size\n",
        "blank_img = np.full((h, w), 255, dtype = np.uint8)"
      ]
    },
    {
      "cell_type": "code",
      "execution_count": 13,
      "metadata": {},
      "outputs": [],
      "source": [
        "def cam3_fixation():\n",
        "    ''' Generates 16 images with the first image as the fixation image.  \n",
        "    '''\n",
        "    cam3_images.append(fix_img)\n",
        "    for _ in range(15):\n",
        "        cam3_images.append(blank_img)\n",
        "\n",
        "def append_single(cam, num):\n",
        "    ''' for appending blank images to a single camera.\n",
        "            cam = name of camera image folder;\n",
        "            num = number of blank frames to append\n",
        "    '''\n",
        "    for _ in range(num):\n",
        "        cam.append(blank_img)\n",
        "\n",
        "def append_multiple(first_cam, second_cam, num):\n",
        "    ''' for appending blank images to a single camera.\n",
        "            first_cam = name of camera image folder;\n",
        "            second_cam = name of other camera image folder;\n",
        "            num = number of blank frames to append\n",
        "    '''\n",
        "    for _ in range(num):\n",
        "        first_cam.append(blank_img)\n",
        "        second_cam.append(blank_img)\n",
        "\n",
        "def get_results(shapes,camera_images):\n",
        "    result = random_shapes((120,1920), intensity_range=(0, 1), max_shapes=1, min_size = 99, max_size=100, shape=shapes, multichannel=False)\n",
        "    result_pad = np.pad(result[0], ((480,480),(0,0)), mode='constant', constant_values=255)\n",
        "    camera_images.append(result_pad)\n",
        "    append_single(camera_images, 4)\n",
        "\n",
        "\n",
        "# Generates first frame\n",
        "\n",
        "cam3_fixation()\n",
        "append_multiple(cam1_images, cam2_images, 16)\n",
        "\n",
        "\n",
        "for cam1_shapes, cam2_shapes in zip(shapes, shapes[1:]):\n",
        "    # if camera 1 is condition stimulus shape \n",
        "    if (cam1_shapes == cond_stim) & (cam2_shapes != cond_stim):\n",
        "        get_results(cam1_shapes,cam1_images)\n",
        "\n",
        "        # camera 2 and 3\n",
        "        append_multiple(cam2_images,cam3_images,5)\n",
        "        # camera 3 only\n",
        "        cam3_fixation()\n",
        "        # for camera 1 and 2 (delay from fixation point)\n",
        "        append_multiple(cam1_images,cam2_images,16)\n",
        "\n",
        "        # write camera2 after\n",
        "        get_results(cam2_shapes, cam2_images)\n",
        "        # camera 1 and 3 (blank images)\n",
        "        append_multiple(cam1_images,cam3_images,5)\n",
        "    # if camera 2 is condition stimulus shape\n",
        "    elif (cam2_shapes == cond_stim) & (cam1_shapes != cond_stim):\n",
        "        # write camera 1 first\n",
        "        get_results(cam1_shapes,cam1_images)\n",
        "        append_multiple(cam2_images,cam3_images,5)\n",
        "        # camera 1 and 3 (blank images)\n",
        "        get_results(cam2_shapes,cam2_images)\n",
        "        append_multiple(cam1_images,cam3_images,5)\n",
        "        # camera 3 only\n",
        "        cam3_fixation()\n",
        "        # for camera 1 and 2 (delay from fixation point)\n",
        "        append_multiple(cam1_images, cam2_images, 16)\n",
        "\n",
        "    elif (cam2_shapes != cond_stim) & (cam1_shapes != cond_stim):\n",
        "        cam_array = ['cam1', 'cam2']\n",
        "        which_array = np.random.choice(cam_array, 1, p=[0.5,0.5])\n",
        "\n",
        "        if which_array == 'cam1':\n",
        "            get_results(cam1_shapes,cam1_images)\n",
        "            append_multiple(cam2_images, cam3_images, 5)\n",
        "\n",
        "            get_results(cam2_shapes,cam2_images)\n",
        "            append_multiple(cam1_images, cam3_images, 5)\n",
        "\n",
        "        else:\n",
        "            get_results(cam2_shapes,cam2_images)\n",
        "            append_multiple(cam1_images, cam3_images, 5)\n",
        "\n",
        "            get_results(cam1_shapes,cam1_images)\n",
        "            append_multiple(cam2_images, cam3_images, 5)\n",
        "\n",
        "# if both are condition shapes select randomly which frame goes first\n",
        "    elif (cam2_shapes == cond_stim) & (cam1_shapes == cond_stim):\n",
        "        cam_array = ['cam1', 'cam2']\n",
        "        which_array = np.random.choice(cam_array, 1, p=[0.5,0.5])\n",
        "\n",
        "        if which_array == 'cam1':\n",
        "            get_results(cam1_shapes,cam1_images)\n",
        "            append_multiple(cam2_images, cam3_images, 5)\n",
        "            # camera 3 fixation\n",
        "            cam3_fixation()\n",
        "\n",
        "    # for camera 1 and 2 (delay from fixation point)\n",
        "            append_multiple(cam1_images, cam2_images, 16)\n",
        "            get_results(cam2_shapes,cam2_images)\n",
        "            append_multiple(cam1_images, cam3_images, 5)\n",
        "            # camera 3 only\n",
        "            cam3_fixation()\n",
        "            append_multiple(cam1_images, cam2_images, 16)\n",
        "        \n",
        "        else:\n",
        "            get_results(cam2_shapes,cam2_images)\n",
        "            append_multiple(cam1_images, cam3_images, 5)\n",
        "            # camera 3 only\n",
        "            cam3_fixation()\n",
        "            # for camera 1 and 2 (delay from fixation point)\n",
        "            append_multiple(cam1_images, cam2_images, 16)\n",
        "            get_results(cam1_shapes,cam1_images)\n",
        "            append_multiple(cam2_images, cam3_images, 5)\n",
        "            # camera 3 only\n",
        "            cam3_fixation()\n",
        "            append_multiple(cam1_images, cam2_images, 16)\n",
        "            # for camera 1 and 2 (delay from fixation point)\n"
      ]
    },
    {
      "source": [
        "## Writing videos to folders"
      ],
      "cell_type": "markdown",
      "metadata": {}
    },
    {
      "cell_type": "code",
      "execution_count": 14,
      "metadata": {},
      "outputs": [],
      "source": [
        "video_name = '{}{}'.format('camera_01_test', '.mp4' )\n",
        "\n",
        "h,w = frame_size\n",
        "fourcc = cv2.VideoWriter_fourcc(*'XVID')\n",
        "video = cv2.VideoWriter(video_name, fourcc, 1 , (w,h), 0)\n",
        "\n",
        "for frame in cam1_images:\n",
        "    frame = img_as_ubyte(frame)\n",
        "    video.write(frame)\n",
        "video.release()"
      ]
    },
    {
      "cell_type": "code",
      "execution_count": 15,
      "metadata": {},
      "outputs": [],
      "source": [
        "video_name = '{}{}'.format('camera_02_test', '.mp4' )\n",
        "\n",
        "h,w = frame_size\n",
        "fourcc = cv2.VideoWriter_fourcc(*'XVID')\n",
        "video = cv2.VideoWriter(video_name, fourcc, 1 , (w,h), 0)\n",
        "\n",
        "for frame in cam2_images:\n",
        "    frame = img_as_ubyte(frame)\n",
        "    video.write(frame)\n",
        "video.release()"
      ]
    },
    {
      "cell_type": "code",
      "execution_count": 16,
      "metadata": {},
      "outputs": [],
      "source": [
        "video_name = '{}{}'.format('camera_03_test', '.mp4' )\n",
        "\n",
        "h,w = frame_size\n",
        "fourcc = cv2.VideoWriter_fourcc(*'XVID')\n",
        "video = cv2.VideoWriter(video_name, fourcc, 1 , (w,h), 0)\n",
        "\n",
        "for frame in cam3_images:\n",
        "    frame = img_as_ubyte(frame)\n",
        "    video.write(frame)\n",
        "video.release()"
      ]
    },
    {
      "cell_type": "code",
      "execution_count": null,
      "metadata": {},
      "outputs": [],
      "source": []
    }
  ],
  "metadata": {
    "kernelspec": {
      "display_name": "Python 3",
      "language": "python",
      "name": "python3"
    },
    "language_info": {
      "codemirror_mode": {
        "name": "ipython",
        "version": 3
      },
      "file_extension": ".py",
      "mimetype": "text/x-python",
      "name": "python",
      "nbconvert_exporter": "python",
      "pygments_lexer": "ipython3",
      "version": "3.7.7-final"
    }
  },
  "nbformat": 4,
  "nbformat_minor": 0
}