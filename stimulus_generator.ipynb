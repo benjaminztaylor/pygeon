{
 "cells": [
  {
   "cell_type": "markdown",
   "metadata": {},
   "source": [
    "\n",
    "# Random Shapes\n",
    "\n",
    "implementing scipy's `random shapes` function to assist in the generation of videos.\n"
   ]
  },
  {
   "cell_type": "code",
   "execution_count": 1,
   "metadata": {},
   "outputs": [],
   "source": [
    "import os\n",
    "import matplotlib.pyplot as plt\n",
    "import numpy as np\n",
    "import cv2\n",
    "from skimage.draw import random_shapes, rectangle\n",
    "from skimage.util import img_as_ubyte\n",
    "import pandas as pd\n",
    "import datetime, dateutil"
   ]
  },
  {
   "cell_type": "code",
   "execution_count": 2,
   "metadata": {},
   "outputs": [],
   "source": [
    "%matplotlib inline"
   ]
  },
  {
   "cell_type": "code",
   "execution_count": 3,
   "metadata": {},
   "outputs": [],
   "source": [
    "# duration shape (or black) frame remains (number of seconds)\n",
    "frame_dur = 0.5 \n",
    "\n",
    "stim_shape_dur = int(1/frame_dur)\n",
    "fixation_pt_dur = 1\n",
    "\n",
    "# which shapes to 'choose' from\n",
    "shape_arr = ['triangle', 'circle']\n",
    "frame_size = (1080,1920)\n",
    "\n",
    "# which shape is the conditioned stimulus\n",
    "other_stim = 'circle'\n",
    "cond_stim = 'triangle'\n",
    "\n",
    "# randomly selects shapes (must be even!)\n",
    "number_of_shapes = 50"
   ]
  },
  {
   "cell_type": "markdown",
   "metadata": {},
   "source": [
    "## Create fixation stimulus"
   ]
  },
  {
   "cell_type": "code",
   "execution_count": 4,
   "metadata": {},
   "outputs": [],
   "source": [
    "h, w = frame_size\n",
    "blank_img = np.full((h, w), 255, dtype = np.uint8)"
   ]
  },
  {
   "cell_type": "code",
   "execution_count": 5,
   "metadata": {},
   "outputs": [],
   "source": [
    "fix_img = np.full((h, w), 255, dtype = np.uint8)\n",
    "start = (540,960)\n",
    "extent = (590,1010)\n",
    "rr, cc = rectangle(start, end=extent, shape=fix_img.shape)\n",
    "fix_img[rr, cc] = 0"
   ]
  },
  {
   "cell_type": "markdown",
   "metadata": {},
   "source": [
    "## Create image arrays"
   ]
  },
  {
   "cell_type": "code",
   "execution_count": 7,
   "metadata": {},
   "outputs": [],
   "source": [
    "def cam3_fixation():\n",
    "    ''' Generates 10 images with the first image as the fixation image.  \n",
    "    '''\n",
    "    cam3_images.append(fix_img)\n",
    "    cam3_images.append(fix_img)\n",
    "    for _ in range(10):\n",
    "        cam3_images.append(blank_img)\n",
    "\n",
    "def append_single(cam, num):\n",
    "    ''' for appending blank images to a single camera.\n",
    "            cam = name of camera image folder;\n",
    "            num = number of blank frames to append\n",
    "    '''\n",
    "    for _ in range(num):\n",
    "        cam.append(blank_img)\n",
    "\n",
    "def append_multiple(first_cam, second_cam, num):\n",
    "    ''' for appending blank images to a single camera.\n",
    "            first_cam = name of camera image folder;\n",
    "            second_cam = name of other camera image folder;\n",
    "            num = number of blank frames to append\n",
    "    '''\n",
    "    for _ in range(num):\n",
    "        first_cam.append(blank_img)\n",
    "        second_cam.append(blank_img)\n",
    "\n",
    "def get_results(shapes, camera_images, num):\n",
    "    result = random_shapes((120,1920), intensity_range=(0, 1), max_shapes=1, min_size = 99, max_size=100, shape=shapes, multichannel=False)\n",
    "    result_pad = np.pad(result[0], ((480,480),(0,0)), mode='constant', constant_values=255)\n",
    "    camera_images.append(result_pad)\n",
    "    append_single(camera_images, int(num - 1))"
   ]
  },
  {
   "cell_type": "code",
   "execution_count": 22,
   "metadata": {},
   "outputs": [],
   "source": [
    "# each holds camera images \n",
    "cam1_images = []\n",
    "cam2_images = []\n",
    "cam3_images = []\n",
    "\n",
    "# order dfs for writing time keys\n",
    "time_order = []\n",
    "shape_order = []"
   ]
  },
  {
   "cell_type": "code",
   "execution_count": 23,
   "metadata": {},
   "outputs": [],
   "source": [
    "shapes = np.random.choice(shape_arr, number_of_shapes, p=[0.5,0.5])"
   ]
  },
  {
   "cell_type": "markdown",
   "metadata": {},
   "source": [
    "## Blank into followed by fixation\n",
    "\n",
    "1. 1 minute (120 frames) blank\n",
    "2. 6 seconds (12 frames) fixation\n"
   ]
  },
  {
   "cell_type": "code",
   "execution_count": 24,
   "metadata": {},
   "outputs": [],
   "source": [
    "# Generates first frame\n",
    "# video 3 will start with a 1 second blank\n",
    "# video 1 and 2 will begin with 6 second blank\n",
    "\n",
    "append_single(cam3_images, int(60 * stim_shape_dur))\n",
    "\n",
    "cam3_fixation()\n",
    "\n",
    "append_multiple(cam1_images, cam2_images, int((6 * stim_shape_dur)+120))"
   ]
  },
  {
   "cell_type": "code",
   "execution_count": 25,
   "metadata": {},
   "outputs": [],
   "source": [
    "for cam1_shapes, cam2_shapes in zip(shapes, shapes[1:]):\n",
    "    # randomly chooses between camera 1 and 2 \n",
    "    cam_array = ['cam1', 'cam2']\n",
    "    which_array = np.random.choice(cam_array, 1, p=[0.5,0.5])\n",
    "    # if camera 1 is chosen,\n",
    "    if which_array == 'cam1':\n",
    "        shape_order.append([cam1_shapes, 'fixation', cam2_shapes, 'fixation'])\n",
    "        time_order.append(['camera 1', 'fixation', 'camera 2', 'fixation'])\n",
    "        get_results(cam1_shapes,cam1_images, int(15 * stim_shape_dur))\n",
    "        append_multiple(cam2_images, cam3_images, int(15 * stim_shape_dur))\n",
    "\n",
    "        # camera 3 fixation\n",
    "        cam3_fixation()\n",
    "        # for camera 1 and 2 (delay from fixation point)\n",
    "        append_multiple(cam1_images, cam2_images, int(6 * stim_shape_dur))\n",
    "\n",
    "        get_results(cam2_shapes,cam2_images, int(15 * stim_shape_dur))\n",
    "        append_multiple(cam1_images, cam3_images, int(15 * stim_shape_dur))\n",
    "\n",
    "        # camera 3 only\n",
    "        cam3_fixation()\n",
    "        append_multiple(cam1_images, cam2_images, int(6 * stim_shape_dur) )\n",
    "    # if camera 1 is chosen,\n",
    "    else:\n",
    "        shape_order.append([cam1_shapes, 'fixation', cam2_shapes, 'fixation'])\n",
    "        time_order.append(['camera 2', 'fixation', 'camera 1', 'fixation'])\n",
    "        get_results(cam2_shapes,cam2_images, int(15 * stim_shape_dur))\n",
    "        append_multiple(cam1_images, cam3_images, int(15 * stim_shape_dur) )\n",
    "\n",
    "        # camera 3 only\n",
    "        cam3_fixation()\n",
    "        # for camera 1 and 2 (delay from fixation point)\n",
    "        append_multiple(cam1_images, cam2_images, int(6 * stim_shape_dur))\n",
    "        # append camera 2\n",
    "        get_results(cam1_shapes,cam1_images, int(15 * stim_shape_dur))\n",
    "        append_multiple(cam2_images, cam3_images, int(15 * stim_shape_dur))\n",
    "        # camera 3 only\n",
    "        cam3_fixation()\n",
    "        append_multiple(cam1_images, cam2_images, int(6 * stim_shape_dur))"
   ]
  },
  {
   "cell_type": "markdown",
   "metadata": {},
   "source": [
    "## Generate Time Key\n",
    "\n",
    "Generate a key to videos to know when particular stimuli occur"
   ]
  },
  {
   "cell_type": "code",
   "execution_count": 50,
   "metadata": {},
   "outputs": [],
   "source": [
    "time_order = np.array(time_order).flatten()\n",
    "time_order = np.insert(time_order,0,'fixation')\n",
    "shape_order =  np.array(shape_order).flatten()\n",
    "shape_order = np.insert(shape_order,0,'fixation')\n",
    "# generating timekey \n",
    "\n",
    "time_key = pd.DataFrame({'camera_order':time_order, 'shape_order':shape_order})\n",
    "time_key['duration'] = np.nan\n",
    "time_key.loc[time_key['shape_order']=='fixation', 'duration']= 6\n",
    "time_key.loc[time_key['shape_order']!='fixation', 'duration']= 15\n",
    "\n",
    "# shift since first frame begins with blank frame (1sec) \n",
    "time_key.at[0,'duration'] = time_key.at[0,'duration'] + 60\n",
    "time_key['times'] = time_key['duration'].cumsum()\n",
    "time_key['times'] = pd.to_timedelta(time_key['times'], unit='s')\n",
    "time_key['times'] = time_key['times'].shift(1)\n",
    "time_key.at[0,'times'] = 60\n",
    "\n",
    "# Save times\n",
    "today = datetime.datetime.now()\n",
    "today = today.strftime(\"%m-%d-%Y-%H-%M-%S\")\n",
    "time_key_df_name = '{}_{}'.format(today, 'time_key.csv')\n",
    "time_key.to_csv(time_key_df_name)"
   ]
  },
  {
   "cell_type": "markdown",
   "metadata": {},
   "source": [
    "## Writing videos to folders"
   ]
  },
  {
   "cell_type": "code",
   "execution_count": 28,
   "metadata": {},
   "outputs": [],
   "source": [
    "# writing videos\n",
    "fourcc = cv2.VideoWriter_fourcc(*'avc1')\n",
    "fps=2"
   ]
  },
  {
   "cell_type": "code",
   "execution_count": 56,
   "metadata": {},
   "outputs": [],
   "source": [
    "video_name = '{}{}{}'.format('cam_01_', today, '.mp4' )\n",
    "video = cv2.VideoWriter(video_name, fourcc, fps , (w,h), 0)\n",
    "\n",
    "for frame in cam1_images:\n",
    "    frame = img_as_ubyte(frame)\n",
    "    video.write(frame)\n",
    "video.release()"
   ]
  },
  {
   "cell_type": "code",
   "execution_count": 53,
   "metadata": {},
   "outputs": [],
   "source": [
    "video_name = '{}{}{}'.format('cam_02_', today, '.mp4' )\n",
    "video = cv2.VideoWriter(video_name, fourcc, fps , (w,h), 0)\n",
    "\n",
    "for frame in cam2_images:\n",
    "    frame = img_as_ubyte(frame)\n",
    "    video.write(frame)\n",
    "video.release()"
   ]
  },
  {
   "cell_type": "code",
   "execution_count": 55,
   "metadata": {},
   "outputs": [],
   "source": [
    "video_name = '{}{}{}'.format('cam_03_', today, '.mp4' )\n",
    "video = cv2.VideoWriter(video_name, fourcc, fps , (w,h), 0)\n",
    "\n",
    "for frame in cam3_images:\n",
    "    frame = img_as_ubyte(frame)\n",
    "    video.write(frame)\n",
    "video.release()"
   ]
  }
 ],
 "metadata": {
  "kernelspec": {
   "display_name": "Python 3",
   "language": "python",
   "name": "python3"
  },
  "language_info": {
   "codemirror_mode": {
    "name": "ipython",
    "version": 3
   },
   "file_extension": ".py",
   "mimetype": "text/x-python",
   "name": "python",
   "nbconvert_exporter": "python",
   "pygments_lexer": "ipython3",
   "version": "3.7.7"
  }
 },
 "nbformat": 4,
 "nbformat_minor": 1
}